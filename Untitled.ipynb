{
 "cells": [
  {
   "cell_type": "code",
   "execution_count": 2,
   "id": "f6167652-a50c-4af4-8f78-ef4b3b808562",
   "metadata": {},
   "outputs": [
    {
     "name": "stdout",
     "output_type": "stream",
     "text": [
      "AnalyzerOutput(output=POS, probas={POS: 0.946, NEU: 0.037, NEG: 0.017})\n"
     ]
    }
   ],
   "source": [
    "from pysentimiento import create_analyzer\n",
    "analyzer = create_analyzer(task=\"sentiment\", lang=\"es\")\n",
    "\n",
    "out = analyzer.predict(\"Qué gran jugador es Messi\")\n",
    "# returns AnalyzerOutput(output=POS, probas={POS: 0.998, NEG: 0.002, NEU: 0.000})\n"
   ]
  },
  {
   "cell_type": "code",
   "execution_count": 3,
   "id": "0c1f54aa-c438-4e9f-b4f7-4e5a1c39f558",
   "metadata": {},
   "outputs": [
    {
     "name": "stdout",
     "output_type": "stream",
     "text": [
      "POS\n"
     ]
    }
   ],
   "source": [
    "print(out.output)"
   ]
  },
  {
   "cell_type": "code",
   "execution_count": 4,
   "id": "af5ab6f6-f76c-4539-abb1-7d8680475cc7",
   "metadata": {},
   "outputs": [
    {
     "name": "stdout",
     "output_type": "stream",
     "text": [
      "{'NEG': 0.017095135524868965, 'NEU': 0.03709329292178154, 'POS': 0.9458115696907043}\n"
     ]
    }
   ],
   "source": [
    "print(out.probas)"
   ]
  },
  {
   "cell_type": "code",
   "execution_count": 5,
   "id": "e2f89cdb-d94f-4d1d-8e2c-5af90e01de15",
   "metadata": {},
   "outputs": [],
   "source": [
    "out = analyzer.predict(\"Qué gran jugador es Messi\")"
   ]
  },
  {
   "cell_type": "code",
   "execution_count": 3,
   "id": "39ed39db-51f8-4201-b80d-752db74f1f0d",
   "metadata": {},
   "outputs": [
    {
     "ename": "ModuleNotFoundError",
     "evalue": "No module named 'dagshub'",
     "output_type": "error",
     "traceback": [
      "\u001b[1;31m---------------------------------------------------------------------------\u001b[0m",
      "\u001b[1;31mModuleNotFoundError\u001b[0m                       Traceback (most recent call last)",
      "\u001b[1;32m~\\AppData\\Local\\Temp/ipykernel_19352/2302878191.py\u001b[0m in \u001b[0;36m<module>\u001b[1;34m\u001b[0m\n\u001b[1;32m----> 1\u001b[1;33m \u001b[1;32mfrom\u001b[0m \u001b[0mdagshub\u001b[0m \u001b[1;32mimport\u001b[0m \u001b[0mget_repo_bucket_client\u001b[0m\u001b[1;33m\u001b[0m\u001b[1;33m\u001b[0m\u001b[0m\n\u001b[0m\u001b[0;32m      2\u001b[0m \u001b[1;31m# Get a boto3.client object\u001b[0m\u001b[1;33m\u001b[0m\u001b[1;33m\u001b[0m\u001b[0m\n\u001b[0;32m      3\u001b[0m \u001b[0ms3\u001b[0m \u001b[1;33m=\u001b[0m \u001b[0mget_repo_bucket_client\u001b[0m\u001b[1;33m(\u001b[0m\u001b[1;34m\"Omdena/IREX-El-Salvador-Sentiment\"\u001b[0m\u001b[1;33m)\u001b[0m\u001b[1;33m\u001b[0m\u001b[1;33m\u001b[0m\u001b[0m\n\u001b[0;32m      4\u001b[0m \u001b[1;33m\u001b[0m\u001b[0m\n\u001b[0;32m      5\u001b[0m \u001b[1;31m# Upload file\u001b[0m\u001b[1;33m\u001b[0m\u001b[1;33m\u001b[0m\u001b[0m\n",
      "\u001b[1;31mModuleNotFoundError\u001b[0m: No module named 'dagshub'"
     ]
    }
   ],
   "source": [
    "from dagshub import get_repo_bucket_client\n",
    "# Get a boto3.client object\n",
    "s3 = get_repo_bucket_client(\"Omdena/IREX-El-Salvador-Sentiment\")\n",
    "\n",
    "# Upload file\n",
    "s3.upload_file(\n",
    "    Bucket=\"IREX-El-Salvador-Sentiment\",  # name of the repo\n",
    "    Filename=\"local.csv\",  # local path of file to upload\n",
    "    Key=\"remote.csv\",  # remote path where to upload the file\n",
    ")\n",
    "# Download file\n",
    "s3.download_file(\n",
    "    Bucket=\"IREX-El-Salvador-Sentiment\",  # name of the repo\n",
    "    Key=\"remote.csv\",  #  remote path from where to download the file\n",
    "    Filename=\"local.csv\",  # local path where to download the file\n",
    ")"
   ]
  },
  {
   "cell_type": "code",
   "execution_count": null,
   "id": "f5d85a5f",
   "metadata": {},
   "outputs": [],
   "source": []
  }
 ],
 "metadata": {
  "kernelspec": {
   "display_name": "Python 3 (ipykernel)",
   "language": "python",
   "name": "python3"
  },
  "language_info": {
   "codemirror_mode": {
    "name": "ipython",
    "version": 3
   },
   "file_extension": ".py",
   "mimetype": "text/x-python",
   "name": "python",
   "nbconvert_exporter": "python",
   "pygments_lexer": "ipython3",
   "version": "3.9.7"
  }
 },
 "nbformat": 4,
 "nbformat_minor": 5
}
